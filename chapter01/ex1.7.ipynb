{
 "metadata": {
  "language_info": {
   "codemirror_mode": {
    "name": "ipython",
    "version": 3
   },
   "file_extension": ".py",
   "mimetype": "text/x-python",
   "name": "python",
   "nbconvert_exporter": "python",
   "pygments_lexer": "ipython3",
   "version": "3.9.0-final"
  },
  "orig_nbformat": 2,
  "kernelspec": {
   "name": "vpython",
   "display_name": "VPython"
  }
 },
 "nbformat": 4,
 "nbformat_minor": 2,
 "cells": [
  {
   "cell_type": "code",
   "execution_count": 1,
   "metadata": {},
   "outputs": [],
   "source": [
    "# Imported package.\n",
    "import pandas as pd"
   ]
  },
  {
   "cell_type": "code",
   "execution_count": 2,
   "metadata": {},
   "outputs": [
    {
     "output_type": "execute_result",
     "data": {
      "text/plain": [
       "     i    x\n",
       "0    1   73\n",
       "1    2   91\n",
       "2    3   72\n",
       "3    4   81\n",
       "4    5   82\n",
       "5    6   46\n",
       "6    7   89\n",
       "7    8   75\n",
       "8    9   62\n",
       "9   10   58\n",
       "10  11   73\n",
       "11  12   46\n",
       "12  13   64\n",
       "13  14   61\n",
       "14  15   50\n",
       "15  16   89\n",
       "16  17   91\n",
       "17  18   82\n",
       "18  19   71\n",
       "19  20   76\n",
       "20  21   69\n",
       "21  22   70\n",
       "22  23   82\n",
       "23  24   90\n",
       "24  25   63\n",
       "25  26   70\n",
       "26  27   94\n",
       "27  28   44\n",
       "28  29  100\n",
       "29  30   88\n",
       "30  31   56\n",
       "31  32   94\n",
       "32  33   51\n",
       "33  34   79\n",
       "34  35   63\n",
       "35  36   87\n",
       "36  37   54\n",
       "37  38  100\n",
       "38  39   72\n",
       "39  40   81"
      ],
      "text/html": "<div>\n<style scoped>\n    .dataframe tbody tr th:only-of-type {\n        vertical-align: middle;\n    }\n\n    .dataframe tbody tr th {\n        vertical-align: top;\n    }\n\n    .dataframe thead th {\n        text-align: right;\n    }\n</style>\n<table border=\"1\" class=\"dataframe\">\n  <thead>\n    <tr style=\"text-align: right;\">\n      <th></th>\n      <th>i</th>\n      <th>x</th>\n    </tr>\n  </thead>\n  <tbody>\n    <tr>\n      <th>0</th>\n      <td>1</td>\n      <td>73</td>\n    </tr>\n    <tr>\n      <th>1</th>\n      <td>2</td>\n      <td>91</td>\n    </tr>\n    <tr>\n      <th>2</th>\n      <td>3</td>\n      <td>72</td>\n    </tr>\n    <tr>\n      <th>3</th>\n      <td>4</td>\n      <td>81</td>\n    </tr>\n    <tr>\n      <th>4</th>\n      <td>5</td>\n      <td>82</td>\n    </tr>\n    <tr>\n      <th>5</th>\n      <td>6</td>\n      <td>46</td>\n    </tr>\n    <tr>\n      <th>6</th>\n      <td>7</td>\n      <td>89</td>\n    </tr>\n    <tr>\n      <th>7</th>\n      <td>8</td>\n      <td>75</td>\n    </tr>\n    <tr>\n      <th>8</th>\n      <td>9</td>\n      <td>62</td>\n    </tr>\n    <tr>\n      <th>9</th>\n      <td>10</td>\n      <td>58</td>\n    </tr>\n    <tr>\n      <th>10</th>\n      <td>11</td>\n      <td>73</td>\n    </tr>\n    <tr>\n      <th>11</th>\n      <td>12</td>\n      <td>46</td>\n    </tr>\n    <tr>\n      <th>12</th>\n      <td>13</td>\n      <td>64</td>\n    </tr>\n    <tr>\n      <th>13</th>\n      <td>14</td>\n      <td>61</td>\n    </tr>\n    <tr>\n      <th>14</th>\n      <td>15</td>\n      <td>50</td>\n    </tr>\n    <tr>\n      <th>15</th>\n      <td>16</td>\n      <td>89</td>\n    </tr>\n    <tr>\n      <th>16</th>\n      <td>17</td>\n      <td>91</td>\n    </tr>\n    <tr>\n      <th>17</th>\n      <td>18</td>\n      <td>82</td>\n    </tr>\n    <tr>\n      <th>18</th>\n      <td>19</td>\n      <td>71</td>\n    </tr>\n    <tr>\n      <th>19</th>\n      <td>20</td>\n      <td>76</td>\n    </tr>\n    <tr>\n      <th>20</th>\n      <td>21</td>\n      <td>69</td>\n    </tr>\n    <tr>\n      <th>21</th>\n      <td>22</td>\n      <td>70</td>\n    </tr>\n    <tr>\n      <th>22</th>\n      <td>23</td>\n      <td>82</td>\n    </tr>\n    <tr>\n      <th>23</th>\n      <td>24</td>\n      <td>90</td>\n    </tr>\n    <tr>\n      <th>24</th>\n      <td>25</td>\n      <td>63</td>\n    </tr>\n    <tr>\n      <th>25</th>\n      <td>26</td>\n      <td>70</td>\n    </tr>\n    <tr>\n      <th>26</th>\n      <td>27</td>\n      <td>94</td>\n    </tr>\n    <tr>\n      <th>27</th>\n      <td>28</td>\n      <td>44</td>\n    </tr>\n    <tr>\n      <th>28</th>\n      <td>29</td>\n      <td>100</td>\n    </tr>\n    <tr>\n      <th>29</th>\n      <td>30</td>\n      <td>88</td>\n    </tr>\n    <tr>\n      <th>30</th>\n      <td>31</td>\n      <td>56</td>\n    </tr>\n    <tr>\n      <th>31</th>\n      <td>32</td>\n      <td>94</td>\n    </tr>\n    <tr>\n      <th>32</th>\n      <td>33</td>\n      <td>51</td>\n    </tr>\n    <tr>\n      <th>33</th>\n      <td>34</td>\n      <td>79</td>\n    </tr>\n    <tr>\n      <th>34</th>\n      <td>35</td>\n      <td>63</td>\n    </tr>\n    <tr>\n      <th>35</th>\n      <td>36</td>\n      <td>87</td>\n    </tr>\n    <tr>\n      <th>36</th>\n      <td>37</td>\n      <td>54</td>\n    </tr>\n    <tr>\n      <th>37</th>\n      <td>38</td>\n      <td>100</td>\n    </tr>\n    <tr>\n      <th>38</th>\n      <td>39</td>\n      <td>72</td>\n    </tr>\n    <tr>\n      <th>39</th>\n      <td>40</td>\n      <td>81</td>\n    </tr>\n  </tbody>\n</table>\n</div>"
     },
     "metadata": {},
     "execution_count": 2
    }
   ],
   "source": [
    "# Read the dataset.\n",
    "df = pd.read_csv(\"data/ex1.5.csv\")\n",
    "df"
   ]
  },
  {
   "cell_type": "code",
   "execution_count": 3,
   "metadata": {},
   "outputs": [
    {
     "output_type": "stream",
     "name": "stdout",
     "text": [
      "X data: [ 73  91  72  81  82  46  89  75  62  58  73  46  64  61  50  89  91  82\n  71  76  69  70  82  90  63  70  94  44 100  88  56  94  51  79  63  87\n  54 100  72  81]\n"
     ]
    }
   ],
   "source": [
    "# Get the X data as a Numpy array.\n",
    "x = df.x.values\n",
    "print(\"X data:\", x)"
   ]
  },
  {
   "cell_type": "code",
   "execution_count": 4,
   "metadata": {},
   "outputs": [
    {
     "output_type": "stream",
     "name": "stdout",
     "text": [
      "Manual standard deviation: 15.324796083472041\nNumpy standard deviation: 15.324796083472041\n"
     ]
    }
   ],
   "source": [
    "# Calculate the mean and standard deviation of X data. In this exercise, I will show how to\n",
    "# calculate the parameters manually and how to use the Numpy methods, which return the\n",
    "# parameters of the array elements.\n",
    "sum = 0\n",
    "for i in x:\n",
    "    sum += i\n",
    "mean = sum / len(x)\n",
    "\n",
    "diff = (x - mean) ** 2\n",
    "sum = 0\n",
    "for i in diff:\n",
    "    sum += i\n",
    "std = sqrt(sum / len(x))\n",
    "print(\"Manual standard deviation:\", std)\n",
    "print(\"Numpy standard deviation:\", x.std())"
   ]
  }
 ]
}