{
 "metadata": {
  "language_info": {
   "codemirror_mode": {
    "name": "ipython",
    "version": 3
   },
   "file_extension": ".py",
   "mimetype": "text/x-python",
   "name": "python",
   "nbconvert_exporter": "python",
   "pygments_lexer": "ipython3",
   "version": "3.9.0-final"
  },
  "orig_nbformat": 2,
  "kernelspec": {
   "name": "python3",
   "display_name": "Python 3"
  }
 },
 "nbformat": 4,
 "nbformat_minor": 2,
 "cells": [
  {
   "cell_type": "code",
   "execution_count": 15,
   "metadata": {},
   "outputs": [],
   "source": [
    "# Imported packages.\n",
    "from scipy.stats import binom"
   ]
  },
  {
   "cell_type": "code",
   "execution_count": 16,
   "metadata": {},
   "outputs": [],
   "source": [
    "# In a certain physics course, 7.3% of the students failed and 92.7% passed, averaged over many semesters."
   ]
  },
  {
   "cell_type": "code",
   "execution_count": 17,
   "metadata": {},
   "outputs": [],
   "source": [
    "# Binomial distribution parameters.\n",
    "n = 32\n",
    "p = 0.073"
   ]
  },
  {
   "cell_type": "code",
   "execution_count": 18,
   "metadata": {},
   "outputs": [
    {
     "output_type": "stream",
     "name": "stdout",
     "text": [
      "Approximately 2 students will fail.\n"
     ]
    }
   ],
   "source": [
    "# a) What is the expected number of failures in a particular class of 32 students, drawn from the same population?\n",
    "failures = n * p\n",
    "print(\"Approximately %d students will fail.\" % round(failures))"
   ]
  },
  {
   "cell_type": "code",
   "execution_count": 19,
   "metadata": {},
   "outputs": [],
   "source": [
    "# b) What is the probability that five or more students will fail?\n",
    "\n",
    "# Calculates the binomial using Scipy and shows the probability mass function.\n",
    "rv = binom(n, p)"
   ]
  },
  {
   "cell_type": "code",
   "execution_count": 20,
   "metadata": {},
   "outputs": [],
   "source": [
    "# As the exercise as for five or more students, it is needed to use the binominal distribution complementar formula.\n",
    "\n",
    "# P(x \\geqslant 5)=1-(P(0)+P(1)+P(2)+P(3)+P(4))"
   ]
  },
  {
   "cell_type": "code",
   "execution_count": 21,
   "metadata": {},
   "outputs": [
    {
     "output_type": "stream",
     "name": "stdout",
     "text": [
      "The probability that five or more students fail is 8.03%.\n"
     ]
    }
   ],
   "source": [
    "# Calculate the sum of probabilities between 0 and 4\n",
    "sum = 0\n",
    "for i in range(5):\n",
    "    sum += rv.pmf(i)\n",
    "propability = (1 - sum) * 100\n",
    "print(\"The probability that five or more students fail is %.2f%%.\" % (propability))"
   ]
  }
 ]
}