{
 "metadata": {
  "language_info": {
   "codemirror_mode": {
    "name": "ipython",
    "version": 3
   },
   "file_extension": ".py",
   "mimetype": "text/x-python",
   "name": "python",
   "nbconvert_exporter": "python",
   "pygments_lexer": "ipython3",
   "version": "3.9.0-final"
  },
  "orig_nbformat": 2,
  "kernelspec": {
   "name": "python3",
   "display_name": "Python 3"
  }
 },
 "nbformat": 4,
 "nbformat_minor": 2,
 "cells": [
  {
   "cell_type": "code",
   "execution_count": 163,
   "metadata": {},
   "outputs": [],
   "source": [
    "# Imported packages.\n",
    "import numpy as np"
   ]
  },
  {
   "cell_type": "code",
   "execution_count": 164,
   "metadata": {},
   "outputs": [],
   "source": [
    "N = 1000\n",
    "Nr = 670\n",
    "Nl = 330"
   ]
  },
  {
   "cell_type": "code",
   "execution_count": 165,
   "metadata": {},
   "outputs": [
    {
     "output_type": "stream",
     "name": "stdout",
     "text": [
      "Uncertainty in Nr: 0.67±0.0149.\nUncertainty in Nl: 0.33±0.0149.\n"
     ]
    }
   ],
   "source": [
    "# Based n the experimental estimate of the probability, what is the uncertainty in Nr? In Nl?\n",
    "pNr = (Nr / N)\n",
    "pNl = (Nl / N)\n",
    "std = np.sqrt(N * pNr * pNl)\n",
    "\n",
    "print(\"Uncertainty in Nr: %.2f\\u00B1%.4f.\" % (pNr, std / N))\n",
    "print(\"Uncertainty in Nl: %.2f\\u00B1%.4f.\" % (pNl, std / N))\n"
   ]
  },
  {
   "cell_type": "code",
   "execution_count": 166,
   "metadata": {},
   "outputs": [
    {
     "output_type": "stream",
     "name": "stdout",
     "text": [
      "Asymmetry: 0.34.\nAsymmetry uncertainty: 0.34±0.0210.\n"
     ]
    }
   ],
   "source": [
    "# The asymmetry parameter is defined as A=(Nr-Nl)/(Nr+Nl). Calculate the experimental asymmetry and its uncertainty.\n",
    "A = (Nr - Nl) / (Nr + Nl)\n",
    "std = np.sqrt((std ** 2 + std ** 2) / N ** 2)\n",
    "print(\"Asymmetry: %.2f.\" % A)\n",
    "print(\"Asymmetry uncertainty: %.2f\\u00B1%.4f.\" % (A, std))"
   ]
  },
  {
   "cell_type": "code",
   "execution_count": 167,
   "metadata": {},
   "outputs": [],
   "source": [
    "# Assume that the asymmetry has been predicted to be A=0.400 and recalculate the uncertainties in (a) and (b) using the predicted probability.\n",
    "\n",
    "# 0.4 = p - (1 - p)\n",
    "# 0.4 = p - 1 + p\n",
    "# 0.4 + 1 = 2p\n",
    "p = 0.7\n",
    "\n",
    "# q = 1 - p\n",
    "q = 0.3"
   ]
  },
  {
   "cell_type": "code",
   "execution_count": 168,
   "metadata": {},
   "outputs": [
    {
     "output_type": "stream",
     "name": "stdout",
     "text": [
      "Uncertainty in Nr: 0.70±0.0145.\nUncertainty in Nl: 0.30±0.0145.\n"
     ]
    }
   ],
   "source": [
    "# Uncertainty in Nr and Nl.\n",
    "std = np.sqrt(1000 * p * q)\n",
    "\n",
    "print(\"Uncertainty in Nr: %.2f\\u00B1%.4f.\" % (p, std / N))\n",
    "print(\"Uncertainty in Nl: %.2f\\u00B1%.4f.\" % (q, std / N))"
   ]
  },
  {
   "cell_type": "code",
   "execution_count": 169,
   "metadata": {},
   "outputs": [
    {
     "output_type": "stream",
     "name": "stdout",
     "text": [
      "Asymmetry: 0.40.\nAsymmetry uncertainty: 0.40±0.0205.\n"
     ]
    }
   ],
   "source": [
    "# Calculate the experimental asymmetry and its uncertainty.\n",
    "A = (p - q) / (p + q)\n",
    "std = np.sqrt((std ** 2 + std ** 2) / N ** 2)\n",
    "print(\"Asymmetry: %.2f.\" % A)\n",
    "print(\"Asymmetry uncertainty: %.2f\\u00B1%.4f.\" % (A, std))"
   ]
  }
 ]
}