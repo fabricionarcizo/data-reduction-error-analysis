{
 "metadata": {
  "language_info": {
   "codemirror_mode": {
    "name": "ipython",
    "version": 3
   },
   "file_extension": ".py",
   "mimetype": "text/x-python",
   "name": "python",
   "nbconvert_exporter": "python",
   "pygments_lexer": "ipython3",
   "version": "3.9.0-final"
  },
  "orig_nbformat": 2,
  "kernelspec": {
   "name": "python3",
   "display_name": "Python 3"
  }
 },
 "nbformat": 4,
 "nbformat_minor": 2,
 "cells": [
  {
   "cell_type": "code",
   "execution_count": 9,
   "metadata": {},
   "outputs": [],
   "source": [
    "# Imported packages.\n",
    "import numpy as np\n",
    "from scipy.stats import poisson"
   ]
  },
  {
   "cell_type": "code",
   "execution_count": 10,
   "metadata": {},
   "outputs": [],
   "source": [
    "# Poisson distribution parameters.\n",
    "x = range(8)\n",
    "mean = 2"
   ]
  },
  {
   "cell_type": "code",
   "execution_count": 11,
   "metadata": {},
   "outputs": [
    {
     "output_type": "stream",
     "name": "stdout",
     "text": [
      "Scipy Poisson distribution: [0.13533528 0.27067057 0.27067057 0.18044704 0.09022352 0.03608941\n 0.0120298  0.00343709]\n"
     ]
    }
   ],
   "source": [
    "# Calculates the Poisson using Scipy and shows the probability mass function.\n",
    "pmf = poisson.pmf(x, mean)\n",
    "print(\"Scipy Poisson distribution:\", pmf)"
   ]
  },
  {
   "cell_type": "code",
   "execution_count": 12,
   "metadata": {},
   "outputs": [
    {
     "output_type": "stream",
     "name": "stdout",
     "text": [
      "Probability (a): 0.0011.\n"
     ]
    }
   ],
   "source": [
    "# If the average number of neutrinos detected in the apparatus is 2 per day, what is the probability of detecting a fluctuation of 8 or more in one day?\n",
    "print(\"Probability (a): %.4f.\" % (1 - pmf.sum()))"
   ]
  },
  {
   "cell_type": "code",
   "execution_count": 13,
   "metadata": {},
   "outputs": [],
   "source": [
    "# Factorial recursive function.\n",
    "def factorial(n):\n",
    "    return np.float128(1) if n == 0 else n * factorial(n - 1)"
   ]
  },
  {
   "cell_type": "code",
   "execution_count": 14,
   "metadata": {},
   "outputs": [],
   "source": [
    "# Poisson distribution function.\n",
    "def P(x, mean):\n",
    "    return (mean ** x / factorial(x)) * np.e ** (-mean)"
   ]
  },
  {
   "cell_type": "code",
   "execution_count": 15,
   "metadata": {},
   "outputs": [
    {
     "output_type": "execute_result",
     "data": {
      "text/plain": [
       "0.013888888888888888"
      ]
     },
     "metadata": {},
     "execution_count": 15
    }
   ],
   "source": [
    "# Poisson distribution parameters (per 10 minutes).\n",
    "prop = mean / (24 * 6)\n",
    "prop"
   ]
  },
  {
   "cell_type": "code",
   "execution_count": 16,
   "metadata": {},
   "outputs": [
    {
     "output_type": "stream",
     "name": "stdout",
     "text": [
      "Manual Poisson distribution: [9.86207117e-01 1.36973211e-02 9.51202852e-05 4.40371691e-07\n 1.52906837e-09 4.24741214e-12 9.83197255e-15 1.95078820e-17]\n"
     ]
    }
   ],
   "source": [
    "# Calculates the Poisson manually based on Equation 2.11.\n",
    "# \\frac{\\mu^x}{x!} e^\\mu\n",
    "pmf = []\n",
    "for j in x:\n",
    "    pmf.append(P(j, prop))\n",
    "pmf = np.asarray(pmf)\n",
    "print(\"Manual Poisson distribution:\", pmf)"
   ]
  },
  {
   "cell_type": "code",
   "execution_count": 17,
   "metadata": {},
   "outputs": [
    {
     "output_type": "stream",
     "name": "stdout",
     "text": [
      "Probability (b): -3.8598e-17\n"
     ]
    }
   ],
   "source": [
    "# In fact, the 8 neutrinos were all detected within a 10-min period. What is the probability of detecting a fluctuation of 8 or more neutrinos in a 10-min period if the average rate is 2 per 24 hours?\n",
    "print(\"Probability (b): {:.4e}\".format(1 - pmf.sum()))"
   ]
  },
  {
   "cell_type": "code",
   "execution_count": null,
   "metadata": {},
   "outputs": [],
   "source": []
  }
 ]
}